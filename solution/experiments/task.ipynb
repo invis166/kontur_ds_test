{
 "cells": [
  {
   "cell_type": "code",
   "execution_count": 4,
   "metadata": {},
   "outputs": [],
   "source": [
    "import numpy as np\n",
    "import pandas as pd\n",
    "import torch\n",
    "import matplotlib.pyplot as plt\n",
    "from matplotlib import rcParams\n",
    "from torch import nn"
   ]
  },
  {
   "cell_type": "code",
   "execution_count": 2,
   "metadata": {},
   "outputs": [],
   "source": [
    "RANDOM_STATE = 42"
   ]
  },
  {
   "cell_type": "code",
   "execution_count": 35,
   "metadata": {},
   "outputs": [],
   "source": [
    "rcParams['figure.figsize'] = (13, 7)"
   ]
  },
  {
   "cell_type": "code",
   "execution_count": 25,
   "metadata": {},
   "outputs": [],
   "source": [
    "class DocumentPartClassifier(nn.Module):\n",
    "    def __init__(\n",
    "        self,\n",
    "        num_embeddings,\n",
    "        hidden_size,\n",
    "        num_layers=1,\n",
    "        embedding_dim=256,\n",
    "        dropout=0,\n",
    "        bidirectional=False\n",
    "    ):\n",
    "        super().__init__()\n",
    "\n",
    "        self.embedding = torch.nn.Embedding(\n",
    "            num_embeddings=num_embeddings,\n",
    "            embedding_dim=embedding_dim,\n",
    "            padding_idx=0,\n",
    "        )\n",
    "        self.lstm = torch.nn.LSTM(\n",
    "            input_size=embedding_dim,\n",
    "            hidden_size=hidden_size,\n",
    "            num_layers=num_layers,\n",
    "            dropout=dropout,\n",
    "            bidirectional=bidirectional,\n",
    "            batch_first=True,\n",
    "        )\n",
    "        self.project = torch.nn.Linear(\n",
    "            hidden_size, 1\n",
    "        )\n",
    "        self.softmax = torch.nn.Softmax(1)\n",
    "\n",
    "    def forward(self, batch):\n",
    "        output, _ = (self.lstm(self.embedding(batch)))\n",
    "\n",
    "        return self.softmax(self.project(output)).flatten(1)"
   ]
  },
  {
   "attachments": {},
   "cell_type": "markdown",
   "metadata": {},
   "source": [
    "Обучение"
   ]
  },
  {
   "cell_type": "code",
   "execution_count": 84,
   "metadata": {},
   "outputs": [],
   "source": [
    "import json\n",
    "\n",
    "from document_dataset import LabeledDocumentDataset, DocumentDataset\n",
    "\n",
    "\n",
    "with open('word_idx.json') as f:\n",
    "    word_idx = json.load(f)\n",
    "\n",
    "\n",
    "with open('first_label_train.json') as first_train, open('first_label_test.json') as first_test:\n",
    "    first_train_dataset = LabeledDocumentDataset(json.load(first_train), word_idx, max_document_length=800)\n",
    "    first_test_dataset = LabeledDocumentDataset(json.load(first_test), word_idx, max_document_length=800)\n",
    "\n",
    "# собрать mapping по всему корпусу; mapping должен быть одинаковым у обоих"
   ]
  },
  {
   "cell_type": "code",
   "execution_count": 110,
   "metadata": {},
   "outputs": [],
   "source": [
    "from torch.utils.data import DataLoader\n",
    "\n",
    "\n",
    "train_dataloader = DataLoader(first_train_dataset, batch_size=32, shuffle=True)\n",
    "test_dataloader = DataLoader(first_test_dataset, batch_size=32)"
   ]
  },
  {
   "cell_type": "code",
   "execution_count": 60,
   "metadata": {},
   "outputs": [],
   "source": [
    "def calculate_accuracy(y_true, y_pred):\n",
    "    pass\n",
    "\n",
    "\n",
    "def calculate_label_accuracy(y_true, y_pred):\n",
    "    true_pred = np.all(y_true == y_pred, axis=1).sum()\n",
    "\n",
    "    return true_pred / len(y_true)"
   ]
  },
  {
   "cell_type": "code",
   "execution_count": 74,
   "metadata": {},
   "outputs": [],
   "source": [
    "from IPython.display import clear_output\n",
    "\n",
    "\n",
    "def show_training(losses, train_scores, test_scores):\n",
    "    clear_output(True)\n",
    "\n",
    "    plt.figure(figsize=[16, 9])\n",
    "\n",
    "    plt.subplot(2, 2, 1)\n",
    "    plt.title(\"Loss\")\n",
    "    plt.plot(losses, label='Cross Entropy')\n",
    "    plt.grid()\n",
    "\n",
    "    plt.subplot(2, 2, 2)\n",
    "    plt.title(\"Accuracy\")\n",
    "    plt.plot(train_scores, label='train')\n",
    "    plt.plot(test_scores, label='test')\n",
    "    plt.grid()\n",
    "\n",
    "    plt.legend()\n",
    "\n",
    "    plt.show()"
   ]
  },
  {
   "cell_type": "code",
   "execution_count": 195,
   "metadata": {},
   "outputs": [],
   "source": [
    "def evaluate_metric(clf, dataloader):\n",
    "    correct_predictions = 0\n",
    "    for text_batch, label_batch, start_batch, end_batch in dataloader:\n",
    "        with torch.no_grad():\n",
    "            y_pred = clf(text_batch).detach().numpy()\n",
    "        predicted_labels = np.eye(y_pred.shape[1])[np.argmax(y_pred, axis=1)]\n",
    "        batch_correct_predictions = np.all(start_batch.numpy() == predicted_labels, axis=1).sum()\n",
    "        correct_predictions += batch_correct_predictions\n",
    "\n",
    "    return correct_predictions / len(dataloader.dataset)\n",
    "\n",
    "\n",
    "def evaluate_metrics(clf, train_dataset, test_dataset):\n",
    "    return evaluate_metric(clf, train_dataset), evaluate_metric(clf, test_dataset)"
   ]
  },
  {
   "cell_type": "code",
   "execution_count": 196,
   "metadata": {},
   "outputs": [
    {
     "data": {
      "image/png": "[encoded data removed]",
      "text/plain": [
       "<Figure size 1152x648 with 2 Axes>"
      ]
     },
     "metadata": {
      "needs_background": "light"
     },
     "output_type": "display_data"
    },
    {
     "ename": "KeyboardInterrupt",
     "evalue": "",
     "output_type": "error",
     "traceback": [
      "\u001b[0;31m---------------------------------------------------------------------------\u001b[0m",
      "\u001b[0;31mKeyboardInterrupt\u001b[0m                         Traceback (most recent call last)",
      "Cell \u001b[0;32mIn [196], line 27\u001b[0m\n\u001b[1;32m     23\u001b[0m     output \u001b[39m=\u001b[39m loss(y_pred, start_batch)\n\u001b[1;32m     25\u001b[0m     batch_losses\u001b[39m.\u001b[39mappend(output\u001b[39m.\u001b[39mitem())\n\u001b[0;32m---> 27\u001b[0m     output\u001b[39m.\u001b[39;49mbackward()\n\u001b[1;32m     28\u001b[0m     optimizer\u001b[39m.\u001b[39mstep()\n\u001b[1;32m     30\u001b[0m epoch_train_acc, epoch_test_acc \u001b[39m=\u001b[39m evaluate_metrics(first_clf, train_dataloader, test_dataloader)\n",
      "File \u001b[0;32m~/.local/lib/python3.8/site-packages/torch/_tensor.py:363\u001b[0m, in \u001b[0;36mTensor.backward\u001b[0;34m(self, gradient, retain_graph, create_graph, inputs)\u001b[0m\n\u001b[1;32m    354\u001b[0m \u001b[39mif\u001b[39;00m has_torch_function_unary(\u001b[39mself\u001b[39m):\n\u001b[1;32m    355\u001b[0m     \u001b[39mreturn\u001b[39;00m handle_torch_function(\n\u001b[1;32m    356\u001b[0m         Tensor\u001b[39m.\u001b[39mbackward,\n\u001b[1;32m    357\u001b[0m         (\u001b[39mself\u001b[39m,),\n\u001b[0;32m   (...)\u001b[0m\n\u001b[1;32m    361\u001b[0m         create_graph\u001b[39m=\u001b[39mcreate_graph,\n\u001b[1;32m    362\u001b[0m         inputs\u001b[39m=\u001b[39minputs)\n\u001b[0;32m--> 363\u001b[0m torch\u001b[39m.\u001b[39;49mautograd\u001b[39m.\u001b[39;49mbackward(\u001b[39mself\u001b[39;49m, gradient, retain_graph, create_graph, inputs\u001b[39m=\u001b[39;49minputs)\n",
      "File \u001b[0;32m~/.local/lib/python3.8/site-packages/torch/autograd/__init__.py:173\u001b[0m, in \u001b[0;36mbackward\u001b[0;34m(tensors, grad_tensors, retain_graph, create_graph, grad_variables, inputs)\u001b[0m\n\u001b[1;32m    168\u001b[0m     retain_graph \u001b[39m=\u001b[39m create_graph\n\u001b[1;32m    170\u001b[0m \u001b[39m# The reason we repeat same the comment below is that\u001b[39;00m\n\u001b[1;32m    171\u001b[0m \u001b[39m# some Python versions print out the first line of a multi-line function\u001b[39;00m\n\u001b[1;32m    172\u001b[0m \u001b[39m# calls in the traceback and some print out the last line\u001b[39;00m\n\u001b[0;32m--> 173\u001b[0m Variable\u001b[39m.\u001b[39;49m_execution_engine\u001b[39m.\u001b[39;49mrun_backward(  \u001b[39m# Calls into the C++ engine to run the backward pass\u001b[39;49;00m\n\u001b[1;32m    174\u001b[0m     tensors, grad_tensors_, retain_graph, create_graph, inputs,\n\u001b[1;32m    175\u001b[0m     allow_unreachable\u001b[39m=\u001b[39;49m\u001b[39mTrue\u001b[39;49;00m, accumulate_grad\u001b[39m=\u001b[39;49m\u001b[39mTrue\u001b[39;49;00m)\n",
      "\u001b[0;31mKeyboardInterrupt\u001b[0m: "
     ]
    }
   ],
   "source": [
    "from torch.optim import Adam\n",
    "from torch.nn import CrossEntropyLoss\n",
    "from tqdm.notebook import tqdm\n",
    "\n",
    "\n",
    "first_clf = DocumentPartClassifier(first_train_dataset.tokens_count, 50, embedding_dim=64)\n",
    "\n",
    "n_epoch = 50\n",
    "\n",
    "optimizer = Adam(params=first_clf.parameters())\n",
    "loss = CrossEntropyLoss()\n",
    "\n",
    "losses = []\n",
    "train_scores = []\n",
    "test_scores = []\n",
    "\n",
    "for epoch in range(n_epoch):\n",
    "    batch_losses = []\n",
    "    for text_batch, label_batch, start_batch, end_batch in train_dataloader:\n",
    "        optimizer.zero_grad()\n",
    "\n",
    "        y_pred = first_clf(text_batch)\n",
    "        output = loss(y_pred, start_batch)\n",
    "\n",
    "        batch_losses.append(output.item())\n",
    "\n",
    "        output.backward()\n",
    "        optimizer.step()\n",
    "\n",
    "    epoch_train_acc, epoch_test_acc = evaluate_metrics(first_clf, train_dataloader, test_dataloader)\n",
    "    losses.append(np.mean(batch_losses))\n",
    "    train_scores.append(epoch_train_acc)\n",
    "    test_scores.append(epoch_test_acc)\n",
    "\n",
    "    show_training(losses, train_scores, test_scores)"
   ]
  }
 ],
 "metadata": {
  "kernelspec": {
   "display_name": "Python 3",
   "language": "python",
   "name": "python3"
  },
  "language_info": {
   "codemirror_mode": {
    "name": "ipython",
    "version": 3
   },
   "file_extension": ".py",
   "mimetype": "text/x-python",
   "name": "python",
   "nbconvert_exporter": "python",
   "pygments_lexer": "ipython3",
   "version": "3.8.10 (default, Mar 13 2023, 10:26:41) \n[GCC 9.4.0]"
  },
  "orig_nbformat": 4,
  "vscode": {
   "interpreter": {
    "hash": "31f2aee4e71d21fbe5cf8b01ff0e069b9275f58929596ceb00d14d90e3e16cd6"
   }
  }
 },
 "nbformat": 4,
 "nbformat_minor": 2
}
